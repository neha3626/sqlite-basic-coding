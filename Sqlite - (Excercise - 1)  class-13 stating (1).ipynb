{
 "cells": [
  {
   "cell_type": "markdown",
   "id": "90757d3b",
   "metadata": {},
   "source": [
    "# DBMS"
   ]
  },
  {
   "cell_type": "raw",
   "id": "60b3d474",
   "metadata": {},
   "source": [
    "DBMS -Database Management System (DBMS) is a software that is used to define, create and maintain a database and provides controlled access to the data. "
   ]
  },
  {
   "cell_type": "raw",
   "id": "3fe2fe1a",
   "metadata": {},
   "source": [
    "There are two types of DBMS\n",
    "\n",
    "Relational -Relational databases store data in rows and columns like a spreadsheet\n",
    "\n",
    "Example - Microsoft SQL Server, Oracle Database, MySQL ,sqlite\n",
    "\n",
    "\n",
    "\n",
    "Non Retational -non-relational databases store data don't, using a storage model (one of four) that is best suited for the type of data it's storing.\n",
    "\n",
    "Example -MongoDB, Apache Cassandra, Redis, no sql"
   ]
  },
  {
   "cell_type": "raw",
   "id": "e5426463",
   "metadata": {},
   "source": [
    "DBMS Licensed or proprietor - Microsoft SQL Server, Oracle\n",
    "\n",
    "\n",
    "Open-source DBMS - SQLite"
   ]
  },
  {
   "cell_type": "raw",
   "id": "f23b8d30",
   "metadata": {},
   "source": [
    "There are 3 types of structure query language\n",
    "\n",
    "DDL-Data Definition Language - Create,Alter,Drop\n",
    "\n",
    "DML-Data Manipulation Language - select,update,delete,insert\n",
    "\n",
    "DCL-Data Control Language. - commit,rollback,revoke,grant"
   ]
  },
  {
   "cell_type": "code",
   "execution_count": 1,
   "id": "590b7719",
   "metadata": {},
   "outputs": [],
   "source": [
    "import sqlite3"
   ]
  },
  {
   "cell_type": "code",
   "execution_count": 2,
   "id": "8be55b21",
   "metadata": {},
   "outputs": [],
   "source": [
    "# create databse\n",
    "\n",
    "dbcon=sqlite3.connect('testdatabase.db')"
   ]
  },
  {
   "cell_type": "code",
   "execution_count": 3,
   "id": "2d982383",
   "metadata": {},
   "outputs": [],
   "source": [
    "\n",
    "cur=dbcon.cursor()"
   ]
  },
  {
   "cell_type": "code",
   "execution_count": 4,
   "id": "9aad7608",
   "metadata": {},
   "outputs": [
    {
     "ename": "OperationalError",
     "evalue": "table student8 already exists",
     "output_type": "error",
     "traceback": [
      "\u001b[1;31m---------------------------------------------------------------------------\u001b[0m",
      "\u001b[1;31mOperationalError\u001b[0m                          Traceback (most recent call last)",
      "\u001b[1;32m~\\AppData\\Local\\Temp/ipykernel_1996/748465195.py\u001b[0m in \u001b[0;36m<module>\u001b[1;34m\u001b[0m\n\u001b[1;32m----> 1\u001b[1;33m \u001b[0mcur\u001b[0m\u001b[1;33m.\u001b[0m\u001b[0mexecute\u001b[0m\u001b[1;33m(\u001b[0m\u001b[1;34m'create table student8(rollno int primary key,name text,marks int)'\u001b[0m\u001b[1;33m)\u001b[0m\u001b[1;33m\u001b[0m\u001b[1;33m\u001b[0m\u001b[0m\n\u001b[0m",
      "\u001b[1;31mOperationalError\u001b[0m: table student8 already exists"
     ]
    }
   ],
   "source": [
    "cur.execute('create table student8(rollno int primary key,name text,marks int)')"
   ]
  },
  {
   "cell_type": "code",
   "execution_count": 8,
   "id": "b52e13d2",
   "metadata": {},
   "outputs": [
    {
     "data": {
      "text/plain": [
       "<sqlite3.Cursor at 0x16de003d730>"
      ]
     },
     "execution_count": 8,
     "metadata": {},
     "output_type": "execute_result"
    }
   ],
   "source": [
    "cur.execute('insert into student8(rollno,name,marks)values(1,\"ABC\",78)')"
   ]
  },
  {
   "cell_type": "code",
   "execution_count": 62,
   "id": "75eba7c8",
   "metadata": {},
   "outputs": [
    {
     "name": "stdout",
     "output_type": "stream",
     "text": [
      "(1, 'ABC', 78)\n"
     ]
    }
   ],
   "source": [
    "results=cur.execute('select * from student8')\n",
    "\n",
    "for i in results:\n",
    "    print(i)\n"
   ]
  },
  {
   "cell_type": "code",
   "execution_count": 63,
   "id": "7383ecbf",
   "metadata": {},
   "outputs": [
    {
     "data": {
      "text/plain": [
       "<sqlite3.Cursor at 0x273c8be43b0>"
      ]
     },
     "execution_count": 63,
     "metadata": {},
     "output_type": "execute_result"
    }
   ],
   "source": [
    "cur.execute('insert into student8(rollno,name,marks)values(2,\"john\",80)')"
   ]
  },
  {
   "cell_type": "code",
   "execution_count": 64,
   "id": "b49f4093",
   "metadata": {},
   "outputs": [
    {
     "data": {
      "text/plain": [
       "<sqlite3.Cursor at 0x273c8be43b0>"
      ]
     },
     "execution_count": 64,
     "metadata": {},
     "output_type": "execute_result"
    }
   ],
   "source": [
    "cur.execute('insert into student8(rollno,name,marks)values(3,\"Andrew\",87)')"
   ]
  },
  {
   "cell_type": "code",
   "execution_count": 65,
   "id": "10bea1b1",
   "metadata": {},
   "outputs": [
    {
     "data": {
      "text/plain": [
       "<sqlite3.Cursor at 0x273c8be43b0>"
      ]
     },
     "execution_count": 65,
     "metadata": {},
     "output_type": "execute_result"
    }
   ],
   "source": [
    "cur.execute('insert into student8(rollno,name,marks)values(4,\"Lisa\",88)')"
   ]
  },
  {
   "cell_type": "code",
   "execution_count": 66,
   "id": "c7969b5a",
   "metadata": {},
   "outputs": [
    {
     "data": {
      "text/plain": [
       "<sqlite3.Cursor at 0x273c8be43b0>"
      ]
     },
     "execution_count": 66,
     "metadata": {},
     "output_type": "execute_result"
    }
   ],
   "source": [
    "cur.execute('insert into student8(rollno,name,marks)values(5,\"jack\",94)')"
   ]
  },
  {
   "cell_type": "code",
   "execution_count": 67,
   "id": "c8f0d51b",
   "metadata": {},
   "outputs": [
    {
     "name": "stdout",
     "output_type": "stream",
     "text": [
      "(1, 'ABC', 78)\n",
      "(2, 'john', 80)\n",
      "(3, 'Andrew', 87)\n",
      "(4, 'Lisa', 88)\n",
      "(5, 'jack', 94)\n"
     ]
    }
   ],
   "source": [
    "results=cur.execute('select * from student8')\n",
    "\n",
    "for i in results:\n",
    "    print(i)\n"
   ]
  },
  {
   "cell_type": "code",
   "execution_count": 12,
   "id": "0fcbe79f",
   "metadata": {},
   "outputs": [
    {
     "data": {
      "text/plain": [
       "<sqlite3.Cursor at 0x273c8b0b420>"
      ]
     },
     "execution_count": 12,
     "metadata": {},
     "output_type": "execute_result"
    }
   ],
   "source": [
    "cur.execute('insert into student8 values(6,\"Tom\",50)')"
   ]
  },
  {
   "cell_type": "code",
   "execution_count": 13,
   "id": "ab3eb537",
   "metadata": {},
   "outputs": [
    {
     "name": "stdout",
     "output_type": "stream",
     "text": [
      "(1, 'ABC', 78)\n",
      "(2, 'john', 80)\n",
      "(3, 'Andrew', 87)\n",
      "(4, 'Lisa', 88)\n",
      "(5, 'jack', 94)\n",
      "(6, 'Tom', 50)\n"
     ]
    }
   ],
   "source": [
    "results=cur.execute('select * from student8')\n",
    "\n",
    "for i in results:\n",
    "    print(i)"
   ]
  },
  {
   "cell_type": "code",
   "execution_count": 14,
   "id": "191296d4",
   "metadata": {},
   "outputs": [
    {
     "name": "stdout",
     "output_type": "stream",
     "text": [
      "(1, 'ABC', 78)\n",
      "(2, 'john', 80)\n",
      "(3, 'Andrew', 87)\n",
      "(4, 'Lisa', 88)\n",
      "(5, 'jack', 94)\n",
      "(6, 'Tom', 50)\n"
     ]
    }
   ],
   "source": [
    "results=cur.execute('select rollno,name,marks from student8')\n",
    "\n",
    "for i in results:\n",
    "    print(i)"
   ]
  },
  {
   "cell_type": "code",
   "execution_count": 15,
   "id": "32202f70",
   "metadata": {},
   "outputs": [
    {
     "name": "stdout",
     "output_type": "stream",
     "text": [
      "(1, 'ABC', 78)\n"
     ]
    }
   ],
   "source": [
    "results=cur.execute('select * from student8 where rollno=1')\n",
    "\n",
    "for i in results:\n",
    "    print(i)"
   ]
  },
  {
   "cell_type": "code",
   "execution_count": 16,
   "id": "b10056a6",
   "metadata": {},
   "outputs": [
    {
     "name": "stdout",
     "output_type": "stream",
     "text": [
      "(2, 'john', 80)\n"
     ]
    }
   ],
   "source": [
    "results=cur.execute('select * from student8 where rollno=2')\n",
    "\n",
    "for i in results:\n",
    "    print(i)"
   ]
  },
  {
   "cell_type": "code",
   "execution_count": 17,
   "id": "cdb16f99",
   "metadata": {},
   "outputs": [
    {
     "name": "stdout",
     "output_type": "stream",
     "text": [
      "(5, 'jack', 94)\n"
     ]
    }
   ],
   "source": [
    "results=cur.execute('select * from student8 where rollno=5')\n",
    "\n",
    "for i in results:\n",
    "    print(i)"
   ]
  },
  {
   "cell_type": "code",
   "execution_count": 18,
   "id": "1d37e723",
   "metadata": {},
   "outputs": [
    {
     "name": "stdout",
     "output_type": "stream",
     "text": [
      "(5, 'jack', 94)\n"
     ]
    }
   ],
   "source": [
    "results=cur.execute('select * from student8 where name=\"jack\"')\n",
    "\n",
    "for i in results:\n",
    "    print(i)"
   ]
  },
  {
   "cell_type": "code",
   "execution_count": 68,
   "id": "a252011d",
   "metadata": {},
   "outputs": [],
   "source": [
    "results=cur.execute('select * from student8 where name=\"Tom\"')\n",
    "\n",
    "for i in results:\n",
    "    print(i)"
   ]
  },
  {
   "cell_type": "code",
   "execution_count": 20,
   "id": "793b0cc3",
   "metadata": {},
   "outputs": [
    {
     "name": "stdout",
     "output_type": "stream",
     "text": [
      "(4, 'Lisa', 88)\n"
     ]
    }
   ],
   "source": [
    "results=cur.execute('select * from student8 where name=\"Lisa\"')\n",
    "\n",
    "for i in results:\n",
    "    print(i)"
   ]
  },
  {
   "cell_type": "code",
   "execution_count": 22,
   "id": "089fbafd",
   "metadata": {},
   "outputs": [
    {
     "data": {
      "text/plain": [
       "(4, 'Lisa', 88)"
      ]
     },
     "execution_count": 22,
     "metadata": {},
     "output_type": "execute_result"
    }
   ],
   "source": [
    "results=cur.execute('select * from student8 where name=\"Lisa\"')\n",
    "\n",
    "results.fetchone()"
   ]
  },
  {
   "cell_type": "code",
   "execution_count": 23,
   "id": "c71cd9dd",
   "metadata": {},
   "outputs": [
    {
     "data": {
      "text/plain": [
       "[(1, 'ABC', 78),\n",
       " (2, 'john', 80),\n",
       " (3, 'Andrew', 87),\n",
       " (4, 'Lisa', 88),\n",
       " (5, 'jack', 94),\n",
       " (6, 'Tom', 50)]"
      ]
     },
     "execution_count": 23,
     "metadata": {},
     "output_type": "execute_result"
    }
   ],
   "source": [
    "results=cur.execute('select * from student8')\n",
    "\n",
    "results.fetchall()"
   ]
  },
  {
   "cell_type": "code",
   "execution_count": 24,
   "id": "b5a9c7e3",
   "metadata": {},
   "outputs": [
    {
     "data": {
      "text/plain": [
       "[(1, 'ABC', 78),\n",
       " (3, 'Andrew', 87),\n",
       " (4, 'Lisa', 88),\n",
       " (6, 'Tom', 50),\n",
       " (5, 'jack', 94),\n",
       " (2, 'john', 80)]"
      ]
     },
     "execution_count": 24,
     "metadata": {},
     "output_type": "execute_result"
    }
   ],
   "source": [
    "results=cur.execute('select * from student8 order by name asc')\n",
    "\n",
    "results.fetchall()"
   ]
  },
  {
   "cell_type": "code",
   "execution_count": 25,
   "id": "04b96860",
   "metadata": {},
   "outputs": [
    {
     "data": {
      "text/plain": [
       "[(2, 'john', 80),\n",
       " (5, 'jack', 94),\n",
       " (6, 'Tom', 50),\n",
       " (4, 'Lisa', 88),\n",
       " (3, 'Andrew', 87),\n",
       " (1, 'ABC', 78)]"
      ]
     },
     "execution_count": 25,
     "metadata": {},
     "output_type": "execute_result"
    }
   ],
   "source": [
    "results=cur.execute('select * from student8 order by name desc')\n",
    "\n",
    "results.fetchall()"
   ]
  },
  {
   "cell_type": "code",
   "execution_count": 26,
   "id": "d28c178c",
   "metadata": {},
   "outputs": [
    {
     "data": {
      "text/plain": [
       "[(6, 'Tom', 50),\n",
       " (5, 'jack', 94),\n",
       " (4, 'Lisa', 88),\n",
       " (3, 'Andrew', 87),\n",
       " (2, 'john', 80),\n",
       " (1, 'ABC', 78)]"
      ]
     },
     "execution_count": 26,
     "metadata": {},
     "output_type": "execute_result"
    }
   ],
   "source": [
    "results=cur.execute('select * from student8 order by rollno desc')\n",
    "\n",
    "results.fetchall()"
   ]
  },
  {
   "cell_type": "code",
   "execution_count": 27,
   "id": "6dd20d28",
   "metadata": {},
   "outputs": [
    {
     "data": {
      "text/plain": [
       "[(1, 'ABC', 78),\n",
       " (2, 'john', 80),\n",
       " (3, 'Andrew', 87),\n",
       " (4, 'Lisa', 88),\n",
       " (5, 'jack', 94),\n",
       " (6, 'Tom', 50)]"
      ]
     },
     "execution_count": 27,
     "metadata": {},
     "output_type": "execute_result"
    }
   ],
   "source": [
    "results=cur.execute('select * from student8 order by rollno asc')\n",
    "\n",
    "results.fetchall()"
   ]
  },
  {
   "cell_type": "code",
   "execution_count": 28,
   "id": "65951f81",
   "metadata": {},
   "outputs": [
    {
     "data": {
      "text/plain": [
       "[(2, 'john', 80), (3, 'Andrew', 87), (4, 'Lisa', 88)]"
      ]
     },
     "execution_count": 28,
     "metadata": {},
     "output_type": "execute_result"
    }
   ],
   "source": [
    "results=cur.execute('select * from student8 where marks between 80 and 90')\n",
    "\n",
    "results.fetchall()"
   ]
  },
  {
   "cell_type": "code",
   "execution_count": 30,
   "id": "4cd2298c",
   "metadata": {},
   "outputs": [
    {
     "data": {
      "text/plain": [
       "[(3, 'Andrew', 87), (4, 'Lisa', 88)]"
      ]
     },
     "execution_count": 30,
     "metadata": {},
     "output_type": "execute_result"
    }
   ],
   "source": [
    "results=cur.execute('select * from student8 where marks>80 and marks<90')\n",
    "\n",
    "results.fetchall()"
   ]
  },
  {
   "cell_type": "code",
   "execution_count": 31,
   "id": "5b2a3540",
   "metadata": {},
   "outputs": [
    {
     "data": {
      "text/plain": [
       "[(1, 'ABC', 78), (2, 'john', 80), (3, 'Andrew', 87)]"
      ]
     },
     "execution_count": 31,
     "metadata": {},
     "output_type": "execute_result"
    }
   ],
   "source": [
    "results=cur.execute('select * from student8 where rollno in (1,2,3)')\n",
    "\n",
    "results.fetchall()"
   ]
  },
  {
   "cell_type": "code",
   "execution_count": 33,
   "id": "f1d823c8",
   "metadata": {},
   "outputs": [
    {
     "data": {
      "text/plain": [
       "[(2, 'john', 80), (4, 'Lisa', 88)]"
      ]
     },
     "execution_count": 33,
     "metadata": {},
     "output_type": "execute_result"
    }
   ],
   "source": [
    "results=cur.execute('select * from student8 where name in (\"john\",\"Lisa\")')\n",
    "\n",
    "results.fetchall()"
   ]
  },
  {
   "cell_type": "markdown",
   "id": "9b74f89d",
   "metadata": {},
   "source": [
    "# Create table"
   ]
  },
  {
   "cell_type": "code",
   "execution_count": 34,
   "id": "3f1ed555",
   "metadata": {},
   "outputs": [],
   "source": [
    "#student database will be created in jupiter note book \n",
    "\n",
    "\n",
    "# first connection object\n",
    "\n",
    "db=sqlite3.connect('student_database.db')"
   ]
  },
  {
   "cell_type": "raw",
   "id": "ce9d41aa",
   "metadata": {},
   "source": [
    "# cursor\n",
    "\n",
    "A cursor holds the rows (one or more) returned by a SQL statement. The set of rows the cursor holds is referred to as the active set. You can name a cursor so that it could be referred to in a program to fetch and process the rows returned by the SQL statement, one at a time.\n"
   ]
  },
  {
   "cell_type": "code",
   "execution_count": 35,
   "id": "0b857c81",
   "metadata": {},
   "outputs": [],
   "source": [
    "# create cursor object\n",
    "\n",
    "cur=db.cursor()"
   ]
  },
  {
   "cell_type": "markdown",
   "id": "46c7606e",
   "metadata": {},
   "source": [
    "# Create Table student in database\n"
   ]
  },
  {
   "cell_type": "code",
   "execution_count": 38,
   "id": "8258480b",
   "metadata": {},
   "outputs": [
    {
     "data": {
      "text/plain": [
       "<sqlite3.Cursor at 0x273c8bde340>"
      ]
     },
     "execution_count": 38,
     "metadata": {},
     "output_type": "execute_result"
    }
   ],
   "source": [
    "cur.execute('create table student9(id int primary key,name text,marks int)')\n"
   ]
  },
  {
   "cell_type": "markdown",
   "id": "9e3fea72",
   "metadata": {},
   "source": [
    "# insert data in student table"
   ]
  },
  {
   "cell_type": "code",
   "execution_count": 40,
   "id": "c6832028",
   "metadata": {},
   "outputs": [],
   "source": [
    "cur.execute('insert into student9 values(1,\"john\",90)')\n",
    "\n",
    "db.commit()"
   ]
  },
  {
   "cell_type": "code",
   "execution_count": 41,
   "id": "bd9e89b2",
   "metadata": {},
   "outputs": [],
   "source": [
    "cur.execute('insert into student9 values(2,\"teena\",100)')\n",
    "\n",
    "db.commit()"
   ]
  },
  {
   "cell_type": "markdown",
   "id": "21ba4020",
   "metadata": {},
   "source": [
    "# Select in student table"
   ]
  },
  {
   "cell_type": "code",
   "execution_count": 42,
   "id": "258e8040",
   "metadata": {},
   "outputs": [
    {
     "data": {
      "text/plain": [
       "[(1, 'john', 90), (2, 'teena', 100)]"
      ]
     },
     "execution_count": 42,
     "metadata": {},
     "output_type": "execute_result"
    }
   ],
   "source": [
    "res=cur.execute('select * from student9')\n",
    "\n",
    "res.fetchall()"
   ]
  },
  {
   "cell_type": "markdown",
   "id": "0a06ecc0",
   "metadata": {},
   "source": [
    "# sql data type"
   ]
  },
  {
   "cell_type": "raw",
   "id": "4a47de87",
   "metadata": {},
   "source": [
    "integer.......numerical value\n",
    "real........decimal values\n",
    "text........character values\n",
    "char(20)......character values"
   ]
  },
  {
   "cell_type": "code",
   "execution_count": 46,
   "id": "19565862",
   "metadata": {},
   "outputs": [
    {
     "name": "stdout",
     "output_type": "stream",
     "text": [
      "-1 Record(S) inserted\n"
     ]
    }
   ],
   "source": [
    "# SHOW HOW MANY ROW INSERTED\n",
    "\n",
    "\n",
    "print(cur.rowcount,'Record(S) inserted')"
   ]
  },
  {
   "cell_type": "code",
   "execution_count": 47,
   "id": "08d09d7a",
   "metadata": {},
   "outputs": [
    {
     "name": "stdout",
     "output_type": "stream",
     "text": [
      "2 records inserted\n"
     ]
    }
   ],
   "source": [
    "# MULTIPLE RECORDS INSERTION\n",
    "\n",
    "cur.execute('insert into student9 values(3,\"kiara\",75),(4,\"jack\",95)')\n",
    "db.commit()\n",
    "\n",
    "print(cur.rowcount,\"records inserted\")"
   ]
  },
  {
   "cell_type": "code",
   "execution_count": 48,
   "id": "7296434a",
   "metadata": {},
   "outputs": [
    {
     "data": {
      "text/plain": [
       "[(1, 'john', 90), (2, 'teena', 100), (3, 'kiara', 75), (4, 'jack', 95)]"
      ]
     },
     "execution_count": 48,
     "metadata": {},
     "output_type": "execute_result"
    }
   ],
   "source": [
    "res=cur.execute('select * from student9')\n",
    "\n",
    "res.fetchall()"
   ]
  },
  {
   "cell_type": "markdown",
   "id": "56a20a81",
   "metadata": {},
   "source": [
    "Database will be created in given location"
   ]
  },
  {
   "cell_type": "code",
   "execution_count": 49,
   "id": "a54af153",
   "metadata": {},
   "outputs": [],
   "source": [
    "db1=sqlite3.connect(\"C:/MySQLite_DataBase/emp_database.db\")"
   ]
  },
  {
   "cell_type": "code",
   "execution_count": 50,
   "id": "ef09285d",
   "metadata": {},
   "outputs": [],
   "source": [
    "cur=db1.cursor()"
   ]
  },
  {
   "cell_type": "code",
   "execution_count": 52,
   "id": "3c26b631",
   "metadata": {},
   "outputs": [
    {
     "data": {
      "text/plain": [
       "<sqlite3.Cursor at 0x273c8be43b0>"
      ]
     },
     "execution_count": 52,
     "metadata": {},
     "output_type": "execute_result"
    }
   ],
   "source": [
    "cur.execute('create table employee2(id int,name text,age int)')"
   ]
  },
  {
   "cell_type": "code",
   "execution_count": 54,
   "id": "ae8c9559",
   "metadata": {},
   "outputs": [],
   "source": [
    "cur.execute('insert into employee2 values(1,\"melin\",23)')\n",
    "db1.commit()"
   ]
  },
  {
   "cell_type": "code",
   "execution_count": 55,
   "id": "1e0a4638",
   "metadata": {},
   "outputs": [
    {
     "name": "stdout",
     "output_type": "stream",
     "text": [
      "1 records inserted\n"
     ]
    }
   ],
   "source": [
    "print(cur.rowcount,\"records inserted\")"
   ]
  },
  {
   "cell_type": "code",
   "execution_count": 56,
   "id": "332e356a",
   "metadata": {},
   "outputs": [
    {
     "name": "stdout",
     "output_type": "stream",
     "text": [
      "(1, 'melin', 23)\n"
     ]
    }
   ],
   "source": [
    "res=cur.execute('select * from employee2')\n",
    "\n",
    "for i in res:\n",
    "    print(i)"
   ]
  },
  {
   "cell_type": "markdown",
   "id": "3bde4fc6",
   "metadata": {},
   "source": [
    "working with original data base ...........student8"
   ]
  },
  {
   "cell_type": "markdown",
   "id": "e14b3f2a",
   "metadata": {},
   "source": [
    "# Accessing data stored in SQLite using python"
   ]
  },
  {
   "cell_type": "code",
   "execution_count": 70,
   "id": "69e4ddbb",
   "metadata": {},
   "outputs": [
    {
     "data": {
      "text/plain": [
       "[(1, 'ABC', 78),\n",
       " (2, 'john', 80),\n",
       " (3, 'Andrew', 87),\n",
       " (4, 'Lisa', 88),\n",
       " (5, 'jack', 94)]"
      ]
     },
     "execution_count": 70,
     "metadata": {},
     "output_type": "execute_result"
    }
   ],
   "source": [
    "result=cur.execute('select * from student8')\n",
    "\n",
    "result.fetchall()"
   ]
  },
  {
   "cell_type": "code",
   "execution_count": 73,
   "id": "0ec136b5",
   "metadata": {},
   "outputs": [
    {
     "data": {
      "text/plain": [
       "[('ABC',), ('john',), ('Andrew',), ('Lisa',), ('jack',)]"
      ]
     },
     "execution_count": 73,
     "metadata": {},
     "output_type": "execute_result"
    }
   ],
   "source": [
    "result=cur.execute('select name from student8')\n",
    "\n",
    "result.fetchall()"
   ]
  },
  {
   "cell_type": "code",
   "execution_count": 75,
   "id": "11cc4186",
   "metadata": {},
   "outputs": [
    {
     "data": {
      "text/plain": [
       "[(1, 'ABC'), (2, 'john'), (3, 'Andrew'), (4, 'Lisa'), (5, 'jack')]"
      ]
     },
     "execution_count": 75,
     "metadata": {},
     "output_type": "execute_result"
    }
   ],
   "source": [
    "result=cur.execute('select rollno,name from student8')\n",
    "\n",
    "result.fetchall()"
   ]
  },
  {
   "cell_type": "markdown",
   "id": "702547bb",
   "metadata": {},
   "source": [
    "# SQL Clause"
   ]
  },
  {
   "cell_type": "code",
   "execution_count": 76,
   "id": "9173908e",
   "metadata": {},
   "outputs": [
    {
     "data": {
      "text/plain": [
       "[(1, 'ABC')]"
      ]
     },
     "execution_count": 76,
     "metadata": {},
     "output_type": "execute_result"
    }
   ],
   "source": [
    "result=cur.execute('select rollno,name from student8 where rollno=1')\n",
    "\n",
    "result.fetchall()"
   ]
  },
  {
   "cell_type": "code",
   "execution_count": 77,
   "id": "b00561d2",
   "metadata": {},
   "outputs": [
    {
     "data": {
      "text/plain": [
       "[(2, 'john')]"
      ]
     },
     "execution_count": 77,
     "metadata": {},
     "output_type": "execute_result"
    }
   ],
   "source": [
    "result=cur.execute('select rollno,name from student8 where rollno=2')\n",
    "\n",
    "result.fetchall()"
   ]
  },
  {
   "cell_type": "code",
   "execution_count": 78,
   "id": "728a0e42",
   "metadata": {},
   "outputs": [
    {
     "data": {
      "text/plain": [
       "[(5, 'jack')]"
      ]
     },
     "execution_count": 78,
     "metadata": {},
     "output_type": "execute_result"
    }
   ],
   "source": [
    "result=cur.execute('select rollno,name from student8 where rollno=5')\n",
    "\n",
    "result.fetchall()"
   ]
  },
  {
   "cell_type": "code",
   "execution_count": 79,
   "id": "8b7a8801",
   "metadata": {},
   "outputs": [
    {
     "data": {
      "text/plain": [
       "[('jack',)]"
      ]
     },
     "execution_count": 79,
     "metadata": {},
     "output_type": "execute_result"
    }
   ],
   "source": [
    "result=cur.execute('select name from student8 where rollno=5')\n",
    "\n",
    "result.fetchall()"
   ]
  },
  {
   "cell_type": "code",
   "execution_count": 82,
   "id": "6d40cacc",
   "metadata": {},
   "outputs": [
    {
     "data": {
      "text/plain": [
       "[(1, 'ABC', 78), (2, 'john', 80), (3, 'Andrew', 87)]"
      ]
     },
     "execution_count": 82,
     "metadata": {},
     "output_type": "execute_result"
    }
   ],
   "source": [
    "result=cur.execute('select * from student8 limit 3')\n",
    "\n",
    "result.fetchall()"
   ]
  },
  {
   "cell_type": "code",
   "execution_count": 83,
   "id": "37e1aa67",
   "metadata": {},
   "outputs": [
    {
     "data": {
      "text/plain": [
       "[(94,)]"
      ]
     },
     "execution_count": 83,
     "metadata": {},
     "output_type": "execute_result"
    }
   ],
   "source": [
    "result=cur.execute('select marks from student8 where rollno=5')\n",
    "\n",
    "result.fetchall()"
   ]
  },
  {
   "cell_type": "code",
   "execution_count": 84,
   "id": "e1384622",
   "metadata": {},
   "outputs": [
    {
     "data": {
      "text/plain": [
       "[(78,)]"
      ]
     },
     "execution_count": 84,
     "metadata": {},
     "output_type": "execute_result"
    }
   ],
   "source": [
    "result=cur.execute('select marks from student8 where name=\"ABC\"')\n",
    "\n",
    "result.fetchall()"
   ]
  },
  {
   "cell_type": "code",
   "execution_count": 87,
   "id": "f723a21e",
   "metadata": {},
   "outputs": [
    {
     "data": {
      "text/plain": [
       "[(80,)]"
      ]
     },
     "execution_count": 87,
     "metadata": {},
     "output_type": "execute_result"
    }
   ],
   "source": [
    "result=cur.execute('select marks from student8 where name=\"john\"')\n",
    "\n",
    "result.fetchall()"
   ]
  },
  {
   "cell_type": "code",
   "execution_count": 89,
   "id": "fc204563",
   "metadata": {},
   "outputs": [
    {
     "data": {
      "text/plain": [
       "[(87,), (88,)]"
      ]
     },
     "execution_count": 89,
     "metadata": {},
     "output_type": "execute_result"
    }
   ],
   "source": [
    "result=cur.execute('select marks from student8 where marks>80 and marks<90')\n",
    "\n",
    "result.fetchall()"
   ]
  },
  {
   "cell_type": "code",
   "execution_count": 92,
   "id": "c36ec142",
   "metadata": {},
   "outputs": [
    {
     "data": {
      "text/plain": [
       "[(78,), (80,), (87,), (88,)]"
      ]
     },
     "execution_count": 92,
     "metadata": {},
     "output_type": "execute_result"
    }
   ],
   "source": [
    "result=cur.execute('select marks from student8 where marks between 78 and 88')\n",
    "\n",
    "result.fetchall()"
   ]
  },
  {
   "cell_type": "code",
   "execution_count": 93,
   "id": "82604440",
   "metadata": {},
   "outputs": [
    {
     "data": {
      "text/plain": [
       "[(78,), (80,)]"
      ]
     },
     "execution_count": 93,
     "metadata": {},
     "output_type": "execute_result"
    }
   ],
   "source": [
    "result=cur.execute('select marks from student8 where rollno in (1,2)')\n",
    "\n",
    "result.fetchall()"
   ]
  },
  {
   "cell_type": "code",
   "execution_count": 95,
   "id": "2a07a5a3",
   "metadata": {},
   "outputs": [
    {
     "data": {
      "text/plain": [
       "[(1, 'ABC', 78),\n",
       " (2, 'john', 80),\n",
       " (3, 'Andrew', 87),\n",
       " (4, 'Lisa', 88),\n",
       " (5, 'jack', 94)]"
      ]
     },
     "execution_count": 95,
     "metadata": {},
     "output_type": "execute_result"
    }
   ],
   "source": [
    "result=cur.execute('select * from student8 order by rollno asc')\n",
    "\n",
    "result.fetchall()"
   ]
  },
  {
   "cell_type": "code",
   "execution_count": 96,
   "id": "f9b5f863",
   "metadata": {},
   "outputs": [
    {
     "data": {
      "text/plain": [
       "[('ABC',), ('john',), ('Andrew',), ('Lisa',), ('jack',)]"
      ]
     },
     "execution_count": 96,
     "metadata": {},
     "output_type": "execute_result"
    }
   ],
   "source": [
    "result=cur.execute('select name from student8 order by rollno asc')\n",
    "\n",
    "result.fetchall()"
   ]
  },
  {
   "cell_type": "code",
   "execution_count": 97,
   "id": "a12089db",
   "metadata": {},
   "outputs": [
    {
     "data": {
      "text/plain": [
       "[(1, 'ABC', 78),\n",
       " (3, 'Andrew', 87),\n",
       " (4, 'Lisa', 88),\n",
       " (5, 'jack', 94),\n",
       " (2, 'john', 80)]"
      ]
     },
     "execution_count": 97,
     "metadata": {},
     "output_type": "execute_result"
    }
   ],
   "source": [
    "result=cur.execute('select * from student8 order by name asc')\n",
    "\n",
    "result.fetchall()"
   ]
  },
  {
   "cell_type": "code",
   "execution_count": 98,
   "id": "e06856b2",
   "metadata": {},
   "outputs": [
    {
     "data": {
      "text/plain": [
       "[(2, 'john', 80),\n",
       " (5, 'jack', 94),\n",
       " (4, 'Lisa', 88),\n",
       " (3, 'Andrew', 87),\n",
       " (1, 'ABC', 78)]"
      ]
     },
     "execution_count": 98,
     "metadata": {},
     "output_type": "execute_result"
    }
   ],
   "source": [
    "result=cur.execute('select * from student8 order by name desc')\n",
    "\n",
    "result.fetchall()"
   ]
  },
  {
   "cell_type": "code",
   "execution_count": 101,
   "id": "a2a3c231",
   "metadata": {},
   "outputs": [
    {
     "data": {
      "text/plain": [
       "[(1, 'ABC', 78), (2, 'john', 80)]"
      ]
     },
     "execution_count": 101,
     "metadata": {},
     "output_type": "execute_result"
    }
   ],
   "source": [
    "result=cur.execute('select * from student8 where rollno=2 or marks=78')\n",
    "\n",
    "result.fetchall()"
   ]
  },
  {
   "cell_type": "code",
   "execution_count": 103,
   "id": "5756224d",
   "metadata": {},
   "outputs": [
    {
     "data": {
      "text/plain": [
       "[(1, 'ABC', 78), (2, 'john', 80)]"
      ]
     },
     "execution_count": 103,
     "metadata": {},
     "output_type": "execute_result"
    }
   ],
   "source": [
    "result=cur.execute('select * from student8 where name=\"john\" or marks=78')\n",
    "\n",
    "result.fetchall()"
   ]
  },
  {
   "cell_type": "code",
   "execution_count": 107,
   "id": "f2e3b324",
   "metadata": {},
   "outputs": [
    {
     "data": {
      "text/plain": [
       "[(1, 'ABC', 78), (2, 'john', 80), (3, 'Andrew', 87), (4, 'Lisa', 88)]"
      ]
     },
     "execution_count": 107,
     "metadata": {},
     "output_type": "execute_result"
    }
   ],
   "source": [
    "result=cur.execute('select * from student8 where marks between 78 and 88')\n",
    "\n",
    "result.fetchall()"
   ]
  },
  {
   "cell_type": "code",
   "execution_count": 113,
   "id": "51753b50",
   "metadata": {},
   "outputs": [
    {
     "data": {
      "text/plain": [
       "[]"
      ]
     },
     "execution_count": 113,
     "metadata": {},
     "output_type": "execute_result"
    }
   ],
   "source": [
    "result=cur.execute('select * from student8 where marks is null')\n",
    "\n",
    "result.fetchall()"
   ]
  },
  {
   "cell_type": "code",
   "execution_count": 114,
   "id": "13ae8603",
   "metadata": {},
   "outputs": [
    {
     "data": {
      "text/plain": [
       "[(1, 'ABC', 78),\n",
       " (2, 'john', 80),\n",
       " (3, 'Andrew', 87),\n",
       " (4, 'Lisa', 88),\n",
       " (5, 'jack', 94)]"
      ]
     },
     "execution_count": 114,
     "metadata": {},
     "output_type": "execute_result"
    }
   ],
   "source": [
    "result=cur.execute('select * from student8 where marks is not null')\n",
    "\n",
    "result.fetchall()"
   ]
  },
  {
   "cell_type": "markdown",
   "id": "b304ab27",
   "metadata": {},
   "source": [
    "# Aggregate functions in SQL"
   ]
  },
  {
   "cell_type": "raw",
   "id": "f16801b6",
   "metadata": {},
   "source": [
    "MIN, MAX, COUNT, SUM,AVG"
   ]
  },
  {
   "cell_type": "code",
   "execution_count": 108,
   "id": "8a25d16a",
   "metadata": {},
   "outputs": [
    {
     "data": {
      "text/plain": [
       "[(78,)]"
      ]
     },
     "execution_count": 108,
     "metadata": {},
     "output_type": "execute_result"
    }
   ],
   "source": [
    "result=cur.execute('select min(marks) from student8 ')\n",
    "\n",
    "result.fetchall()"
   ]
  },
  {
   "cell_type": "code",
   "execution_count": 109,
   "id": "da4bf406",
   "metadata": {},
   "outputs": [
    {
     "data": {
      "text/plain": [
       "[(94,)]"
      ]
     },
     "execution_count": 109,
     "metadata": {},
     "output_type": "execute_result"
    }
   ],
   "source": [
    "result=cur.execute('select max(marks) from student8 ')\n",
    "\n",
    "result.fetchall()"
   ]
  },
  {
   "cell_type": "code",
   "execution_count": 110,
   "id": "a53f216b",
   "metadata": {},
   "outputs": [
    {
     "data": {
      "text/plain": [
       "[(427,)]"
      ]
     },
     "execution_count": 110,
     "metadata": {},
     "output_type": "execute_result"
    }
   ],
   "source": [
    "result=cur.execute('select sum(marks) from student8 ')\n",
    "\n",
    "result.fetchall()"
   ]
  },
  {
   "cell_type": "code",
   "execution_count": 111,
   "id": "ea45e2e4",
   "metadata": {},
   "outputs": [
    {
     "data": {
      "text/plain": [
       "[(5,)]"
      ]
     },
     "execution_count": 111,
     "metadata": {},
     "output_type": "execute_result"
    }
   ],
   "source": [
    "result=cur.execute('select count(marks) from student8 ')\n",
    "\n",
    "result.fetchall()"
   ]
  },
  {
   "cell_type": "code",
   "execution_count": 112,
   "id": "79040538",
   "metadata": {},
   "outputs": [
    {
     "data": {
      "text/plain": [
       "[(85.4,)]"
      ]
     },
     "execution_count": 112,
     "metadata": {},
     "output_type": "execute_result"
    }
   ],
   "source": [
    "result=cur.execute('select avg(marks) from student8 ')\n",
    "\n",
    "result.fetchall()"
   ]
  },
  {
   "cell_type": "markdown",
   "id": "9668df2c",
   "metadata": {},
   "source": [
    "# Like Operators"
   ]
  },
  {
   "cell_type": "raw",
   "id": "2c2afb9a",
   "metadata": {},
   "source": [
    "The LIKE operator is used in a WHERE clause to search for a specified pattern in a column."
   ]
  },
  {
   "cell_type": "raw",
   "id": "79cedd92",
   "metadata": {},
   "source": [
    "There are two wildcards often used in conjunction with the LIKE operator\n",
    "\n",
    "percent sign (%) - represents zero, one, or multiple characters.\n",
    "\n",
    "underscore sign (_) - represents one, single character."
   ]
  },
  {
   "cell_type": "code",
   "execution_count": 115,
   "id": "eba403e9",
   "metadata": {},
   "outputs": [
    {
     "data": {
      "text/plain": [
       "[(1, 'ABC', 78),\n",
       " (2, 'john', 80),\n",
       " (3, 'Andrew', 87),\n",
       " (4, 'Lisa', 88),\n",
       " (5, 'jack', 94)]"
      ]
     },
     "execution_count": 115,
     "metadata": {},
     "output_type": "execute_result"
    }
   ],
   "source": [
    "result=cur.execute('select * from student8 ')\n",
    "\n",
    "result.fetchall()"
   ]
  },
  {
   "cell_type": "code",
   "execution_count": 116,
   "id": "d4d06277",
   "metadata": {},
   "outputs": [
    {
     "data": {
      "text/plain": [
       "[(1, 'ABC', 78), (3, 'Andrew', 87)]"
      ]
     },
     "execution_count": 116,
     "metadata": {},
     "output_type": "execute_result"
    }
   ],
   "source": [
    "result=cur.execute('select * from student8 where name like \"A%\" ')\n",
    "\n",
    "result.fetchall()"
   ]
  },
  {
   "cell_type": "code",
   "execution_count": 117,
   "id": "4e7ba7ef",
   "metadata": {},
   "outputs": [
    {
     "data": {
      "text/plain": [
       "[(2, 'john', 80), (5, 'jack', 94)]"
      ]
     },
     "execution_count": 117,
     "metadata": {},
     "output_type": "execute_result"
    }
   ],
   "source": [
    "result=cur.execute('select * from student8 where name like \"j%\" ')\n",
    "\n",
    "result.fetchall()"
   ]
  },
  {
   "cell_type": "code",
   "execution_count": 118,
   "id": "0563b38c",
   "metadata": {},
   "outputs": [
    {
     "data": {
      "text/plain": [
       "[(5, 'jack', 94)]"
      ]
     },
     "execution_count": 118,
     "metadata": {},
     "output_type": "execute_result"
    }
   ],
   "source": [
    "result=cur.execute('select * from student8 where name like \"_a%\" ')\n",
    "\n",
    "result.fetchall()"
   ]
  },
  {
   "cell_type": "code",
   "execution_count": 120,
   "id": "221fbc37",
   "metadata": {},
   "outputs": [
    {
     "data": {
      "text/plain": [
       "[(2, 'john', 80), (4, 'Lisa', 88), (5, 'jack', 94)]"
      ]
     },
     "execution_count": 120,
     "metadata": {},
     "output_type": "execute_result"
    }
   ],
   "source": [
    "result=cur.execute('select * from student8 where name like \"____\"')\n",
    "result.fetchall()"
   ]
  },
  {
   "cell_type": "code",
   "execution_count": 121,
   "id": "c5cbfdf2",
   "metadata": {},
   "outputs": [
    {
     "data": {
      "text/plain": [
       "[(1, 'ABC', 78), (3, 'Andrew', 87), (4, 'Lisa', 88), (5, 'jack', 94)]"
      ]
     },
     "execution_count": 121,
     "metadata": {},
     "output_type": "execute_result"
    }
   ],
   "source": [
    "result=cur.execute('select * from student8 where name not in (\"john\")')\n",
    "result.fetchall()"
   ]
  },
  {
   "cell_type": "code",
   "execution_count": 122,
   "id": "90af6fa0",
   "metadata": {},
   "outputs": [
    {
     "data": {
      "text/plain": [
       "[(2, 'john', 80), (3, 'Andrew', 87), (4, 'Lisa', 88), (5, 'jack', 94)]"
      ]
     },
     "execution_count": 122,
     "metadata": {},
     "output_type": "execute_result"
    }
   ],
   "source": [
    "result=cur.execute('select * from student8 where marks not in (78)')\n",
    "result.fetchall()"
   ]
  },
  {
   "cell_type": "markdown",
   "id": "83c47cec",
   "metadata": {},
   "source": [
    "# Update records"
   ]
  },
  {
   "cell_type": "code",
   "execution_count": 123,
   "id": "5fdbfb5f",
   "metadata": {},
   "outputs": [
    {
     "data": {
      "text/plain": [
       "<sqlite3.Cursor at 0x273c8be43b0>"
      ]
     },
     "execution_count": 123,
     "metadata": {},
     "output_type": "execute_result"
    }
   ],
   "source": [
    "sql=\"update student8 set marks=100 where rollno=2\"\n",
    "\n",
    "cur.execute(sql)"
   ]
  },
  {
   "cell_type": "code",
   "execution_count": 124,
   "id": "a69d7d2e",
   "metadata": {},
   "outputs": [
    {
     "data": {
      "text/plain": [
       "[(1, 'ABC', 78),\n",
       " (2, 'john', 100),\n",
       " (3, 'Andrew', 87),\n",
       " (4, 'Lisa', 88),\n",
       " (5, 'jack', 94)]"
      ]
     },
     "execution_count": 124,
     "metadata": {},
     "output_type": "execute_result"
    }
   ],
   "source": [
    "result=cur.execute('select * from student8')\n",
    "result.fetchall()"
   ]
  },
  {
   "cell_type": "code",
   "execution_count": 125,
   "id": "d94e6a37",
   "metadata": {},
   "outputs": [],
   "source": [
    "sql=\"update student8 set marks=90 where rollno=3\"\n",
    "\n",
    "cur.execute(sql)\n",
    "\n",
    "db.commit()"
   ]
  },
  {
   "cell_type": "code",
   "execution_count": 126,
   "id": "f7c239e4",
   "metadata": {},
   "outputs": [
    {
     "data": {
      "text/plain": [
       "[(3, 'Andrew', 90)]"
      ]
     },
     "execution_count": 126,
     "metadata": {},
     "output_type": "execute_result"
    }
   ],
   "source": [
    "result=cur.execute('select * from student8 where rollno=3')\n",
    "result.fetchall()"
   ]
  },
  {
   "cell_type": "code",
   "execution_count": 129,
   "id": "6a9a9572",
   "metadata": {},
   "outputs": [],
   "source": [
    "# multiple update using in\n",
    "\n",
    "\n",
    "sql=\"update student8 set marks=90 where rollno in (1,2)\"\n",
    "\n",
    "cur.execute(sql)\n",
    "\n",
    "db.commit()"
   ]
  },
  {
   "cell_type": "code",
   "execution_count": 130,
   "id": "ab5e250c",
   "metadata": {},
   "outputs": [
    {
     "data": {
      "text/plain": [
       "[(1, 'ABC', 90),\n",
       " (2, 'john', 90),\n",
       " (3, 'Andrew', 90),\n",
       " (4, 'Lisa', 88),\n",
       " (5, 'jack', 94)]"
      ]
     },
     "execution_count": 130,
     "metadata": {},
     "output_type": "execute_result"
    }
   ],
   "source": [
    "result=cur.execute('select * from student8')\n",
    "result.fetchall()"
   ]
  },
  {
   "cell_type": "markdown",
   "id": "ca6f4aaa",
   "metadata": {},
   "source": [
    "# Delete from student table"
   ]
  },
  {
   "cell_type": "code",
   "execution_count": 131,
   "id": "afab5882",
   "metadata": {},
   "outputs": [
    {
     "data": {
      "text/plain": [
       "<sqlite3.Cursor at 0x273c8be43b0>"
      ]
     },
     "execution_count": 131,
     "metadata": {},
     "output_type": "execute_result"
    }
   ],
   "source": [
    "sql='delete from student8 where rollno=5'\n",
    "\n",
    "cur.execute(sql)"
   ]
  },
  {
   "cell_type": "code",
   "execution_count": 132,
   "id": "1c6bb16b",
   "metadata": {},
   "outputs": [
    {
     "data": {
      "text/plain": [
       "[(1, 'ABC', 90), (2, 'john', 90), (3, 'Andrew', 90), (4, 'Lisa', 88)]"
      ]
     },
     "execution_count": 132,
     "metadata": {},
     "output_type": "execute_result"
    }
   ],
   "source": [
    "result=cur.execute('select * from student8')\n",
    "result.fetchall()"
   ]
  },
  {
   "cell_type": "code",
   "execution_count": 133,
   "id": "0c350ec9",
   "metadata": {},
   "outputs": [
    {
     "data": {
      "text/plain": [
       "<sqlite3.Cursor at 0x273c8be43b0>"
      ]
     },
     "execution_count": 133,
     "metadata": {},
     "output_type": "execute_result"
    }
   ],
   "source": [
    "sql='drop table student8'\n",
    "\n",
    "cur.execute(sql)"
   ]
  },
  {
   "cell_type": "code",
   "execution_count": 134,
   "id": "bcc59b76",
   "metadata": {},
   "outputs": [
    {
     "ename": "OperationalError",
     "evalue": "no such table: student8",
     "output_type": "error",
     "traceback": [
      "\u001b[1;31m---------------------------------------------------------------------------\u001b[0m",
      "\u001b[1;31mOperationalError\u001b[0m                          Traceback (most recent call last)",
      "\u001b[1;32m~\\AppData\\Local\\Temp/ipykernel_7992/3722240626.py\u001b[0m in \u001b[0;36m<module>\u001b[1;34m\u001b[0m\n\u001b[1;32m----> 1\u001b[1;33m \u001b[0mresult\u001b[0m\u001b[1;33m=\u001b[0m\u001b[0mcur\u001b[0m\u001b[1;33m.\u001b[0m\u001b[0mexecute\u001b[0m\u001b[1;33m(\u001b[0m\u001b[1;34m'select * from student8'\u001b[0m\u001b[1;33m)\u001b[0m\u001b[1;33m\u001b[0m\u001b[1;33m\u001b[0m\u001b[0m\n\u001b[0m\u001b[0;32m      2\u001b[0m \u001b[0mresult\u001b[0m\u001b[1;33m.\u001b[0m\u001b[0mfetchall\u001b[0m\u001b[1;33m(\u001b[0m\u001b[1;33m)\u001b[0m\u001b[1;33m\u001b[0m\u001b[1;33m\u001b[0m\u001b[0m\n",
      "\u001b[1;31mOperationalError\u001b[0m: no such table: student8"
     ]
    }
   ],
   "source": [
    "result=cur.execute('select * from student8')\n",
    "result.fetchall()"
   ]
  },
  {
   "cell_type": "code",
   "execution_count": 135,
   "id": "61447e23",
   "metadata": {},
   "outputs": [],
   "source": [
    "db.close()"
   ]
  },
  {
   "cell_type": "markdown",
   "id": "bb1a19be",
   "metadata": {},
   "source": [
    "# Adding data in table with CSV (Comma sepreted values) file directly"
   ]
  },
  {
   "cell_type": "code",
   "execution_count": 137,
   "id": "491c64d2",
   "metadata": {},
   "outputs": [],
   "source": [
    "import sqlite3"
   ]
  },
  {
   "cell_type": "code",
   "execution_count": 140,
   "id": "a0c77bfd",
   "metadata": {},
   "outputs": [],
   "source": [
    "db=sqlite3.connect(\"C:/MySQLite_DataBase/scores_database.db\")\n",
    "\n",
    "# declare cursor\n",
    "cur=db.cursor()"
   ]
  },
  {
   "cell_type": "code",
   "execution_count": 146,
   "id": "9e5b3475",
   "metadata": {},
   "outputs": [
    {
     "data": {
      "text/plain": [
       "<sqlite3.Cursor at 0x273c8c0f1f0>"
      ]
     },
     "execution_count": 146,
     "metadata": {},
     "output_type": "execute_result"
    }
   ],
   "source": [
    "cur.execute('create table scores5(gender text, student_id int primary key,marks int)')"
   ]
  },
  {
   "cell_type": "code",
   "execution_count": 148,
   "id": "b26001aa",
   "metadata": {},
   "outputs": [],
   "source": [
    "cur.execute('insert into scores5 values(\"male\",100,85)')\n",
    "\n",
    "db.commit()"
   ]
  },
  {
   "cell_type": "code",
   "execution_count": 149,
   "id": "cd7f0691",
   "metadata": {},
   "outputs": [
    {
     "data": {
      "text/plain": [
       "[('male', 100, 85)]"
      ]
     },
     "execution_count": 149,
     "metadata": {},
     "output_type": "execute_result"
    }
   ],
   "source": [
    "res=cur.execute('select * from scores5')\n",
    "\n",
    "res.fetchall()"
   ]
  },
  {
   "cell_type": "markdown",
   "id": "70d6689d",
   "metadata": {},
   "source": [
    "# inserting records from csv file"
   ]
  },
  {
   "cell_type": "code",
   "execution_count": 161,
   "id": "9b19cc53",
   "metadata": {},
   "outputs": [
    {
     "name": "stdout",
     "output_type": "stream",
     "text": [
      "7 records inserted\n"
     ]
    }
   ],
   "source": [
    "with open('scores3_file.csv','r')as file:\n",
    "    total_records=0\n",
    "    for row in file:\n",
    "        cur.execute('insert into scores3 values(?,?,?)',row.split(\",\"))\n",
    "        db.commit()\n",
    "        total_records+=1\n",
    "print(total_records,'records inserted')"
   ]
  },
  {
   "cell_type": "code",
   "execution_count": 162,
   "id": "c260cf8c",
   "metadata": {},
   "outputs": [
    {
     "data": {
      "text/plain": [
       "[('male', 100, 55),\n",
       " ('male', 101, 56),\n",
       " ('male', 102, 58),\n",
       " ('male', 103, 59),\n",
       " ('male', 104, 60),\n",
       " ('male', 105, 61),\n",
       " ('male', 106, 60),\n",
       " ('male', 107, 70),\n",
       " ('male', 108, 71),\n",
       " ('male', 109, 72),\n",
       " ('male', 110, 73),\n",
       " ('male', 111, 74),\n",
       " ('male', 112, 75)]"
      ]
     },
     "execution_count": 162,
     "metadata": {},
     "output_type": "execute_result"
    }
   ],
   "source": [
    "result=cur.execute('select * from scores3')\n",
    "\n",
    "result.fetchall()"
   ]
  },
  {
   "cell_type": "code",
   "execution_count": 163,
   "id": "f5271462",
   "metadata": {},
   "outputs": [
    {
     "data": {
      "text/plain": [
       "<sqlite3.Cursor at 0x273c8c0f1f0>"
      ]
     },
     "execution_count": 163,
     "metadata": {},
     "output_type": "execute_result"
    }
   ],
   "source": [
    "#single record update\n",
    "\n",
    "sql='update scores3 set marks=100 where student_id=106'\n",
    "\n",
    "cur.execute(sql)"
   ]
  },
  {
   "cell_type": "code",
   "execution_count": 164,
   "id": "7ff45e38",
   "metadata": {},
   "outputs": [
    {
     "data": {
      "text/plain": [
       "[('male', 100, 55),\n",
       " ('male', 101, 56),\n",
       " ('male', 102, 58),\n",
       " ('male', 103, 59),\n",
       " ('male', 104, 60),\n",
       " ('male', 105, 61),\n",
       " ('male', 106, 100),\n",
       " ('male', 107, 70),\n",
       " ('male', 108, 71),\n",
       " ('male', 109, 72),\n",
       " ('male', 110, 73),\n",
       " ('male', 111, 74),\n",
       " ('male', 112, 75)]"
      ]
     },
     "execution_count": 164,
     "metadata": {},
     "output_type": "execute_result"
    }
   ],
   "source": [
    "result=cur.execute('select * from scores3')\n",
    "\n",
    "result.fetchall()"
   ]
  },
  {
   "cell_type": "code",
   "execution_count": 165,
   "id": "c96abffc",
   "metadata": {},
   "outputs": [
    {
     "data": {
      "text/plain": [
       "[('male', 100, 55),\n",
       " ('male', 101, 56),\n",
       " ('male', 102, 58),\n",
       " ('male', 103, 59),\n",
       " ('male', 104, 60),\n",
       " ('male', 105, 61),\n",
       " ('male', 107, 70),\n",
       " ('male', 108, 71),\n",
       " ('male', 109, 72),\n",
       " ('male', 110, 73),\n",
       " ('male', 111, 74),\n",
       " ('male', 112, 75),\n",
       " ('male', 106, 100)]"
      ]
     },
     "execution_count": 165,
     "metadata": {},
     "output_type": "execute_result"
    }
   ],
   "source": [
    "result=cur.execute('select * from scores3 order by marks asc')\n",
    "\n",
    "result.fetchall()"
   ]
  },
  {
   "cell_type": "code",
   "execution_count": 166,
   "id": "8f618421",
   "metadata": {},
   "outputs": [
    {
     "data": {
      "text/plain": [
       "[('male', 106, 100),\n",
       " ('male', 112, 75),\n",
       " ('male', 111, 74),\n",
       " ('male', 110, 73),\n",
       " ('male', 109, 72),\n",
       " ('male', 108, 71),\n",
       " ('male', 107, 70),\n",
       " ('male', 105, 61),\n",
       " ('male', 104, 60),\n",
       " ('male', 103, 59),\n",
       " ('male', 102, 58),\n",
       " ('male', 101, 56),\n",
       " ('male', 100, 55)]"
      ]
     },
     "execution_count": 166,
     "metadata": {},
     "output_type": "execute_result"
    }
   ],
   "source": [
    "result=cur.execute('select * from scores3 order by marks desc')\n",
    "\n",
    "result.fetchall()"
   ]
  },
  {
   "cell_type": "code",
   "execution_count": 167,
   "id": "e96dc117",
   "metadata": {},
   "outputs": [
    {
     "data": {
      "text/plain": [
       "[(55,)]"
      ]
     },
     "execution_count": 167,
     "metadata": {},
     "output_type": "execute_result"
    }
   ],
   "source": [
    "result=cur.execute('select min(marks)from scores3')\n",
    "\n",
    "result.fetchall()"
   ]
  },
  {
   "cell_type": "code",
   "execution_count": 168,
   "id": "3f8e9a0c",
   "metadata": {},
   "outputs": [
    {
     "data": {
      "text/plain": [
       "[(100,)]"
      ]
     },
     "execution_count": 168,
     "metadata": {},
     "output_type": "execute_result"
    }
   ],
   "source": [
    "result=cur.execute('select max(marks)from scores3')\n",
    "\n",
    "result.fetchall()"
   ]
  },
  {
   "cell_type": "code",
   "execution_count": null,
   "id": "2d2d704f",
   "metadata": {},
   "outputs": [],
   "source": []
  }
 ],
 "metadata": {
  "kernelspec": {
   "display_name": "Python 3 (ipykernel)",
   "language": "python",
   "name": "python3"
  },
  "language_info": {
   "codemirror_mode": {
    "name": "ipython",
    "version": 3
   },
   "file_extension": ".py",
   "mimetype": "text/x-python",
   "name": "python",
   "nbconvert_exporter": "python",
   "pygments_lexer": "ipython3",
   "version": "3.9.7"
  }
 },
 "nbformat": 4,
 "nbformat_minor": 5
}
