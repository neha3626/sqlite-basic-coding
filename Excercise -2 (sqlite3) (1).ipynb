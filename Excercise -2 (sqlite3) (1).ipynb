{
 "cells": [
  {
   "cell_type": "markdown",
   "id": "783362ef",
   "metadata": {},
   "source": [
    "# Excercise -2 (sqlite3)"
   ]
  },
  {
   "cell_type": "code",
   "execution_count": 1,
   "id": "f69be36b",
   "metadata": {},
   "outputs": [],
   "source": [
    "import sqlite3"
   ]
  },
  {
   "cell_type": "markdown",
   "id": "5aa158cf",
   "metadata": {},
   "source": [
    "Adding date in table"
   ]
  },
  {
   "cell_type": "code",
   "execution_count": 3,
   "id": "911c305b",
   "metadata": {},
   "outputs": [],
   "source": [
    "db=sqlite3.connect('C:/MySQLite_DataBase/sports_databse.db')"
   ]
  },
  {
   "cell_type": "code",
   "execution_count": 4,
   "id": "278fa411",
   "metadata": {},
   "outputs": [],
   "source": [
    "cur=db.cursor()"
   ]
  },
  {
   "cell_type": "markdown",
   "id": "8503b829",
   "metadata": {},
   "source": [
    "# Constraints"
   ]
  },
  {
   "cell_type": "raw",
   "id": "3c8aaf25",
   "metadata": {},
   "source": [
    "Unique.........enter ony unique values,no dublicate value\n",
    "not null...........no blank value can be inserted"
   ]
  },
  {
   "cell_type": "code",
   "execution_count": 5,
   "id": "ff1892eb",
   "metadata": {},
   "outputs": [
    {
     "data": {
      "text/plain": [
       "<sqlite3.Cursor at 0x1d81a8293b0>"
      ]
     },
     "execution_count": 5,
     "metadata": {},
     "output_type": "execute_result"
    }
   ],
   "source": [
    "cur.execute('create table sport (id int primary key,sportname text unique,dateofevent date,country text not null)')"
   ]
  },
  {
   "cell_type": "code",
   "execution_count": 7,
   "id": "24478e87",
   "metadata": {},
   "outputs": [
    {
     "data": {
      "text/plain": [
       "<sqlite3.Cursor at 0x1d81a8293b0>"
      ]
     },
     "execution_count": 7,
     "metadata": {},
     "output_type": "execute_result"
    }
   ],
   "source": [
    "cur.execute('insert into sport values(1,\"cricket\",\"2021-10-9\",\"england\")')"
   ]
  },
  {
   "cell_type": "code",
   "execution_count": 8,
   "id": "47cea27a",
   "metadata": {},
   "outputs": [
    {
     "data": {
      "text/plain": [
       "<sqlite3.Cursor at 0x1d81a8293b0>"
      ]
     },
     "execution_count": 8,
     "metadata": {},
     "output_type": "execute_result"
    }
   ],
   "source": [
    "cur.execute('insert into sport values(2,\"tennis\",\"2018-9-10\",\"srilanka\")')"
   ]
  },
  {
   "cell_type": "code",
   "execution_count": 9,
   "id": "44262dfc",
   "metadata": {},
   "outputs": [
    {
     "name": "stdout",
     "output_type": "stream",
     "text": [
      "1 records inserted\n"
     ]
    }
   ],
   "source": [
    "print(cur.rowcount,'records inserted')"
   ]
  },
  {
   "cell_type": "code",
   "execution_count": 10,
   "id": "ed41a903",
   "metadata": {},
   "outputs": [
    {
     "data": {
      "text/plain": [
       "[(1, 'cricket', '2021-10-9', 'england'),\n",
       " (2, 'tennis', '2018-9-10', 'srilanka')]"
      ]
     },
     "execution_count": 10,
     "metadata": {},
     "output_type": "execute_result"
    }
   ],
   "source": [
    "res=cur.execute('select * from sport')\n",
    "res.fetchall()"
   ]
  },
  {
   "cell_type": "code",
   "execution_count": 11,
   "id": "c124fedb",
   "metadata": {},
   "outputs": [],
   "source": [
    "cur.execute('insert into sport values(3,\"football\",\"2017-8-10\",\"Australia\")')\n",
    "db.commit;"
   ]
  },
  {
   "cell_type": "code",
   "execution_count": 12,
   "id": "282ba3f7",
   "metadata": {},
   "outputs": [
    {
     "data": {
      "text/plain": [
       "[(1, 'cricket', '2021-10-9', 'england'),\n",
       " (2, 'tennis', '2018-9-10', 'srilanka'),\n",
       " (3, 'football', '2017-8-10', 'Australia')]"
      ]
     },
     "execution_count": 12,
     "metadata": {},
     "output_type": "execute_result"
    }
   ],
   "source": [
    "res=cur.execute('select * from sport')\n",
    "res.fetchall()"
   ]
  },
  {
   "cell_type": "markdown",
   "id": "cbba9912",
   "metadata": {},
   "source": [
    "# Employee database with DB and Python programmatically"
   ]
  },
  {
   "cell_type": "code",
   "execution_count": 37,
   "id": "84646686",
   "metadata": {},
   "outputs": [],
   "source": [
    "import sqlite3"
   ]
  },
  {
   "cell_type": "code",
   "execution_count": 38,
   "id": "ebe6556e",
   "metadata": {},
   "outputs": [],
   "source": [
    "con=sqlite3.connect('C:/MySQLite_DataBase/emp_database.db')"
   ]
  },
  {
   "cell_type": "code",
   "execution_count": 67,
   "id": "4578e8cf",
   "metadata": {},
   "outputs": [],
   "source": [
    "def sql_table(con):\n",
    "    cur=con.cursor()\n",
    "    cur.execute('create table employee6(id int primary key,name text,salary real,department text,position text,hirdate date)')\n",
    "    con.commit()\n",
    "    "
   ]
  },
  {
   "cell_type": "code",
   "execution_count": 68,
   "id": "d9f3d996",
   "metadata": {},
   "outputs": [],
   "source": [
    "# calling function\n",
    "\n",
    "sql_table(con)"
   ]
  },
  {
   "cell_type": "code",
   "execution_count": 69,
   "id": "98e213d2",
   "metadata": {},
   "outputs": [],
   "source": [
    "cur=con.cursor()\n",
    "\n",
    "cur.execute('insert into employee6 values(1,\"jack\",9000,\"HR\",\"Manager\",2019-07-09)')\n",
    "con.commit;"
   ]
  },
  {
   "cell_type": "code",
   "execution_count": 43,
   "id": "61535427",
   "metadata": {},
   "outputs": [],
   "source": [
    "# calling function\n",
    "\n",
    "#sql_table(con)"
   ]
  },
  {
   "cell_type": "code",
   "execution_count": 70,
   "id": "6e72f129",
   "metadata": {},
   "outputs": [
    {
     "data": {
      "text/plain": [
       "[(1, 'jack', 9000.0, 'HR', 'Manager', 2003)]"
      ]
     },
     "execution_count": 70,
     "metadata": {},
     "output_type": "execute_result"
    }
   ],
   "source": [
    "res=cur.execute('select * from employee6')\n",
    "res.fetchall()"
   ]
  },
  {
   "cell_type": "raw",
   "id": "ad529fed",
   "metadata": {},
   "source": [
    "you can also pass the values/arguments to an insert statment in the execute()method. you can use the question mark (?) as a placeholder for each value.the syntext of the insert will be the like following."
   ]
  },
  {
   "cell_type": "raw",
   "id": "44b4fbcb",
   "metadata": {},
   "source": [
    "cur.execute(insert into employee(id,name,salary,department,position,hiredate)values(?,?,?,?,?,?),entities)\n",
    "\n",
    "entities=(2,'jack',4000,'IT','Engineer',2018-02-06)"
   ]
  },
  {
   "cell_type": "code",
   "execution_count": 79,
   "id": "5b0115a7",
   "metadata": {},
   "outputs": [],
   "source": [
    "def sql_insert(con,entities):\n",
    "    cur=con.cursor()\n",
    "    cur.execute('insert into employee6(id,name,salary,department,position,hirdate) values(?,?,?,?,?,?)',entities)"
   ]
  },
  {
   "cell_type": "code",
   "execution_count": 80,
   "id": "65ca80fd",
   "metadata": {},
   "outputs": [],
   "source": [
    "entities=(2,\"andrew\",7000,\"it\",\"engineer\",\"2015-04-06\")"
   ]
  },
  {
   "cell_type": "code",
   "execution_count": 81,
   "id": "42108c3a",
   "metadata": {},
   "outputs": [],
   "source": [
    "# calling function sql_insert to insert the data\n",
    "\n",
    "sql_insert(con,entities)"
   ]
  },
  {
   "cell_type": "code",
   "execution_count": 82,
   "id": "f2c4ae82",
   "metadata": {},
   "outputs": [
    {
     "data": {
      "text/plain": [
       "[(1, 'jack', 9000.0, 'HR', 'Manager', 2003),\n",
       " (2, 'andrew', 7000.0, 'it', 'engineer', '2015-04-06')]"
      ]
     },
     "execution_count": 82,
     "metadata": {},
     "output_type": "execute_result"
    }
   ],
   "source": [
    "res=cur.execute('select * from employee6')\n",
    "res.fetchall()"
   ]
  },
  {
   "cell_type": "code",
   "execution_count": 83,
   "id": "7dce6a2e",
   "metadata": {},
   "outputs": [],
   "source": [
    "def sql_insert(con,entities):\n",
    "    cur=con.cursor()\n",
    "    cur.execute('insert into employee6(id,name,salary,department,position,hirdate) values(?,?,?,?,?,?)',entities)"
   ]
  },
  {
   "cell_type": "code",
   "execution_count": 84,
   "id": "bd8a4a78",
   "metadata": {},
   "outputs": [],
   "source": [
    "entities=(3,\"Thomas\",6000,\"HR\",\"Manager\",\"2016-06-04\")"
   ]
  },
  {
   "cell_type": "code",
   "execution_count": 85,
   "id": "76675b0d",
   "metadata": {},
   "outputs": [],
   "source": [
    "sql_insert(con,entities)"
   ]
  },
  {
   "cell_type": "code",
   "execution_count": 86,
   "id": "c59330b9",
   "metadata": {},
   "outputs": [
    {
     "data": {
      "text/plain": [
       "[(1, 'jack', 9000.0, 'HR', 'Manager', 2003),\n",
       " (2, 'andrew', 7000.0, 'it', 'engineer', '2015-04-06'),\n",
       " (3, 'Thomas', 6000.0, 'HR', 'Manager', '2016-06-04')]"
      ]
     },
     "execution_count": 86,
     "metadata": {},
     "output_type": "execute_result"
    }
   ],
   "source": [
    "res=cur.execute('select * from employee6')\n",
    "res.fetchall()"
   ]
  },
  {
   "cell_type": "code",
   "execution_count": 87,
   "id": "d6670db8",
   "metadata": {},
   "outputs": [
    {
     "data": {
      "text/plain": [
       "[(1, 'jack'), (2, 'andrew'), (3, 'Thomas')]"
      ]
     },
     "execution_count": 87,
     "metadata": {},
     "output_type": "execute_result"
    }
   ],
   "source": [
    "res=cur.execute('select id,name from employee6')\n",
    "res.fetchall()"
   ]
  },
  {
   "cell_type": "markdown",
   "id": "52b54391",
   "metadata": {},
   "source": [
    "# Aggregate function"
   ]
  },
  {
   "cell_type": "code",
   "execution_count": 89,
   "id": "bc832e60",
   "metadata": {},
   "outputs": [
    {
     "data": {
      "text/plain": [
       "[(1, 'jack'), (3, 'Thomas')]"
      ]
     },
     "execution_count": 89,
     "metadata": {},
     "output_type": "execute_result"
    }
   ],
   "source": [
    "res=cur.execute('select id,name from employee6 where department in(\"HR\")')\n",
    "res.fetchall()"
   ]
  },
  {
   "cell_type": "code",
   "execution_count": 90,
   "id": "a2a16bef",
   "metadata": {},
   "outputs": [
    {
     "data": {
      "text/plain": [
       "[(6000.0,)]"
      ]
     },
     "execution_count": 90,
     "metadata": {},
     "output_type": "execute_result"
    }
   ],
   "source": [
    "res=cur.execute('select MIN(salary) from employee6')\n",
    "res.fetchall()"
   ]
  },
  {
   "cell_type": "code",
   "execution_count": 91,
   "id": "0e4e0b17",
   "metadata": {},
   "outputs": [
    {
     "data": {
      "text/plain": [
       "[(9000.0,)]"
      ]
     },
     "execution_count": 91,
     "metadata": {},
     "output_type": "execute_result"
    }
   ],
   "source": [
    "res=cur.execute('select MAX(salary) from employee6')\n",
    "res.fetchall()"
   ]
  },
  {
   "cell_type": "code",
   "execution_count": 92,
   "id": "dadd6b3c",
   "metadata": {},
   "outputs": [
    {
     "data": {
      "text/plain": [
       "[(3,)]"
      ]
     },
     "execution_count": 92,
     "metadata": {},
     "output_type": "execute_result"
    }
   ],
   "source": [
    "res=cur.execute('select Count(id) from employee6')\n",
    "res.fetchall()"
   ]
  },
  {
   "cell_type": "code",
   "execution_count": 93,
   "id": "5a79f693",
   "metadata": {},
   "outputs": [
    {
     "data": {
      "text/plain": [
       "[('HR',), ('it',)]"
      ]
     },
     "execution_count": 93,
     "metadata": {},
     "output_type": "execute_result"
    }
   ],
   "source": [
    "res=cur.execute('select distinct(department) from employee6')\n",
    "res.fetchall()"
   ]
  },
  {
   "cell_type": "code",
   "execution_count": 94,
   "id": "de3c4fff",
   "metadata": {},
   "outputs": [
    {
     "data": {
      "text/plain": [
       "[(2,)]"
      ]
     },
     "execution_count": 94,
     "metadata": {},
     "output_type": "execute_result"
    }
   ],
   "source": [
    "res=cur.execute('select count(distinct(department)) from employee6')\n",
    "res.fetchall()"
   ]
  },
  {
   "cell_type": "code",
   "execution_count": 96,
   "id": "d456311c",
   "metadata": {},
   "outputs": [
    {
     "data": {
      "text/plain": [
       "[(15000.0, 'Manager'), (7000.0, 'engineer')]"
      ]
     },
     "execution_count": 96,
     "metadata": {},
     "output_type": "execute_result"
    }
   ],
   "source": [
    "res=cur.execute('select sum(salary),position from employee6 group by position')\n",
    "res.fetchall()"
   ]
  },
  {
   "cell_type": "code",
   "execution_count": 97,
   "id": "ec7ff0ee",
   "metadata": {},
   "outputs": [
    {
     "data": {
      "text/plain": [
       "[(15000.0, 'HR'), (7000.0, 'it')]"
      ]
     },
     "execution_count": 97,
     "metadata": {},
     "output_type": "execute_result"
    }
   ],
   "source": [
    "res=cur.execute('select sum(salary),department from employee6 group by department')\n",
    "res.fetchall()"
   ]
  },
  {
   "cell_type": "code",
   "execution_count": 107,
   "id": "c9ecaab7",
   "metadata": {},
   "outputs": [],
   "source": [
    "def sql_query(sql):\n",
    "    cur=con.cursor()\n",
    "    results=cur.execute(sql)\n",
    "    return results"
   ]
  },
  {
   "cell_type": "code",
   "execution_count": 108,
   "id": "721a5116",
   "metadata": {},
   "outputs": [
    {
     "data": {
      "text/plain": [
       "[(1, 'jack', 9000.0, 'HR', 'Manager', 2003),\n",
       " (2, 'andrew', 7000.0, 'it', 'engineer', '2015-04-06'),\n",
       " (3, 'Thomas', 6000.0, 'HR', 'Manager', '2016-06-04')]"
      ]
     },
     "execution_count": 108,
     "metadata": {},
     "output_type": "execute_result"
    }
   ],
   "source": [
    "# make query\n",
    "\n",
    "sql=\"select * from employee6\"\n",
    "\n",
    "# pass query in function\n",
    "\n",
    "respond=sql_query(sql)\n",
    "respond.fetchall()"
   ]
  },
  {
   "cell_type": "markdown",
   "id": "a906433a",
   "metadata": {},
   "source": [
    "# Sqlite3 Executemany (Bulk insert)"
   ]
  },
  {
   "cell_type": "raw",
   "id": "6d3a7197",
   "metadata": {},
   "source": [
    "You can use the executemany statment for bulk insert multiple rows at once "
   ]
  },
  {
   "cell_type": "code",
   "execution_count": 109,
   "id": "12659e12",
   "metadata": {},
   "outputs": [],
   "source": [
    "entities=[(4,'joseph',4000,'Account','CA','2016-12-05'),(5,'maria',10000,'sales','executive','2020-06-05')]"
   ]
  },
  {
   "cell_type": "code",
   "execution_count": 112,
   "id": "67813d9f",
   "metadata": {},
   "outputs": [
    {
     "data": {
      "text/plain": [
       "<sqlite3.Cursor at 0x1d81a90d030>"
      ]
     },
     "execution_count": 112,
     "metadata": {},
     "output_type": "execute_result"
    }
   ],
   "source": [
    "cur.executemany('insert into employee6(id,name,salary,department,position,hirdate) values(?,?,?,?,?,?)',entities)"
   ]
  },
  {
   "cell_type": "code",
   "execution_count": 113,
   "id": "d0a0f851",
   "metadata": {},
   "outputs": [
    {
     "data": {
      "text/plain": [
       "[(1, 'jack', 9000.0, 'HR', 'Manager', 2003),\n",
       " (2, 'andrew', 7000.0, 'it', 'engineer', '2015-04-06'),\n",
       " (3, 'Thomas', 6000.0, 'HR', 'Manager', '2016-06-04'),\n",
       " (4, 'joseph', 4000.0, 'Account', 'CA', '2016-12-05'),\n",
       " (5, 'maria', 10000.0, 'sales', 'executive', '2020-06-05')]"
      ]
     },
     "execution_count": 113,
     "metadata": {},
     "output_type": "execute_result"
    }
   ],
   "source": [
    "res=cur.execute('select * from employee6')\n",
    "res.fetchall()"
   ]
  },
  {
   "cell_type": "code",
   "execution_count": 114,
   "id": "4885da3e",
   "metadata": {},
   "outputs": [],
   "source": [
    "con.close()"
   ]
  },
  {
   "cell_type": "markdown",
   "id": "39d1d0da",
   "metadata": {},
   "source": [
    "# Referential integrity"
   ]
  },
  {
   "cell_type": "raw",
   "id": "9c1fd4ee",
   "metadata": {},
   "source": [
    "Foreign keys = A foreign key is a set of attributes in a table that refers to the primary key of another table. The foreign key links these two tables"
   ]
  },
  {
   "cell_type": "code",
   "execution_count": 1,
   "id": "5ea26680",
   "metadata": {},
   "outputs": [],
   "source": [
    "import sqlite3"
   ]
  },
  {
   "cell_type": "code",
   "execution_count": 2,
   "id": "5225a49d",
   "metadata": {},
   "outputs": [],
   "source": [
    "db=sqlite3.connect('C:/MySQLite_DataBase/student_course_database.db')"
   ]
  },
  {
   "cell_type": "code",
   "execution_count": 3,
   "id": "91760c02",
   "metadata": {},
   "outputs": [],
   "source": [
    "cur=db.cursor()"
   ]
  },
  {
   "cell_type": "code",
   "execution_count": 6,
   "id": "9cf0c532",
   "metadata": {},
   "outputs": [
    {
     "data": {
      "text/plain": [
       "<sqlite3.Cursor at 0x18d7ded52d0>"
      ]
     },
     "execution_count": 6,
     "metadata": {},
     "output_type": "execute_result"
    }
   ],
   "source": [
    "cur.execute('create table course2(courseid int primary key,coursename text,duration int)')"
   ]
  },
  {
   "cell_type": "code",
   "execution_count": 9,
   "id": "09556cac",
   "metadata": {},
   "outputs": [
    {
     "data": {
      "text/plain": [
       "<sqlite3.Cursor at 0x18d7ded52d0>"
      ]
     },
     "execution_count": 9,
     "metadata": {},
     "output_type": "execute_result"
    }
   ],
   "source": [
    "cur.execute('create table student7(roll_no int primary key,studentname text,age int,courseid int,foreign key(courseid)references course(courseid))')"
   ]
  },
  {
   "cell_type": "code",
   "execution_count": 14,
   "id": "7df74d94",
   "metadata": {},
   "outputs": [
    {
     "name": "stdout",
     "output_type": "stream",
     "text": [
      "3 records inserted\n"
     ]
    }
   ],
   "source": [
    "cur.execute('insert into course2 values(78,\"data science\",12),(56,\"python course\",4),(101,\"database\",7)')\n",
    "\n",
    "print(cur.rowcount,\"records inserted\")\n",
    "\n",
    "db.commit;"
   ]
  },
  {
   "cell_type": "code",
   "execution_count": 11,
   "id": "40be81a3",
   "metadata": {},
   "outputs": [
    {
     "name": "stdout",
     "output_type": "stream",
     "text": [
      "4 records inserted\n"
     ]
    }
   ],
   "source": [
    "cur.execute('insert into student7 values(1,\"jack\",22,78),(2,\"john\",21,56),(3,\"rodoif\",18,78),(4,\"jim\",21,56)')\n",
    "\n",
    "print(cur.rowcount,\"records inserted\")\n",
    "\n",
    "db.commit;"
   ]
  },
  {
   "cell_type": "code",
   "execution_count": 12,
   "id": "134df226",
   "metadata": {},
   "outputs": [
    {
     "data": {
      "text/plain": [
       "[(1, 'jack', 22, 78),\n",
       " (2, 'john', 21, 56),\n",
       " (3, 'rodoif', 18, 78),\n",
       " (4, 'jim', 21, 56)]"
      ]
     },
     "execution_count": 12,
     "metadata": {},
     "output_type": "execute_result"
    }
   ],
   "source": [
    "res=cur.execute('select * from student7')\n",
    "\n",
    "res.fetchall()"
   ]
  },
  {
   "cell_type": "code",
   "execution_count": 15,
   "id": "3565f60b",
   "metadata": {},
   "outputs": [
    {
     "data": {
      "text/plain": [
       "[(78, 'data science', 12), (56, 'python course', 4), (101, 'database', 7)]"
      ]
     },
     "execution_count": 15,
     "metadata": {},
     "output_type": "execute_result"
    }
   ],
   "source": [
    "res=cur.execute('select * from course2')\n",
    "\n",
    "res.fetchall()"
   ]
  },
  {
   "cell_type": "code",
   "execution_count": 16,
   "id": "32f71649",
   "metadata": {},
   "outputs": [
    {
     "data": {
      "text/plain": [
       "[(78,)]"
      ]
     },
     "execution_count": 16,
     "metadata": {},
     "output_type": "execute_result"
    }
   ],
   "source": [
    "res=cur.execute('select courseid from course2 where coursename = \"data science\"')\n",
    "\n",
    "res.fetchall()"
   ]
  },
  {
   "cell_type": "markdown",
   "id": "eac67230",
   "metadata": {},
   "source": [
    "# subquery - inner query, outer query"
   ]
  },
  {
   "cell_type": "code",
   "execution_count": 18,
   "id": "30d439b3",
   "metadata": {},
   "outputs": [
    {
     "data": {
      "text/plain": [
       "[(1, 'jack', 22, 78), (3, 'rodoif', 18, 78)]"
      ]
     },
     "execution_count": 18,
     "metadata": {},
     "output_type": "execute_result"
    }
   ],
   "source": [
    "res=cur.execute('select * from student7 where courseid=(select courseid from course2 where coursename=\"data science\")')\n",
    "res.fetchall()\n",
    "\n"
   ]
  },
  {
   "cell_type": "code",
   "execution_count": 19,
   "id": "19996565",
   "metadata": {},
   "outputs": [
    {
     "data": {
      "text/plain": [
       "[(2, 'john', 21, 56), (4, 'jim', 21, 56)]"
      ]
     },
     "execution_count": 19,
     "metadata": {},
     "output_type": "execute_result"
    }
   ],
   "source": [
    "res=cur.execute('select * from student7 where courseid=(select courseid from course2 where coursename=\"python course\")')\n",
    "res.fetchall()"
   ]
  },
  {
   "cell_type": "markdown",
   "id": "4746a009",
   "metadata": {},
   "source": [
    "# Join"
   ]
  },
  {
   "cell_type": "raw",
   "id": "2d7f3966",
   "metadata": {},
   "source": [
    "different types of sql joins\n",
    "\n",
    "\n",
    "inner join -inner join returns records that have matching values in both table\n",
    "left join - returns all records from the left table. and the matched records from the right table\n",
    "right join- returns all records from the right table. and the matched records from the left table\n",
    "full outer join - returns all records when there is a match in either left or right table"
   ]
  },
  {
   "cell_type": "markdown",
   "id": "6be96477",
   "metadata": {},
   "source": [
    "# Inner join"
   ]
  },
  {
   "cell_type": "code",
   "execution_count": 23,
   "id": "de15c519",
   "metadata": {},
   "outputs": [
    {
     "data": {
      "text/plain": [
       "[(1, 'jack', 78, 'data science'),\n",
       " (2, 'john', 56, 'python course'),\n",
       " (3, 'rodoif', 78, 'data science'),\n",
       " (4, 'jim', 56, 'python course')]"
      ]
     },
     "execution_count": 23,
     "metadata": {},
     "output_type": "execute_result"
    }
   ],
   "source": [
    "sql='select student7.roll_no, student7.studentname, course2.courseid, course2.coursename from student7 inner join course2 on student7.courseid=course2.courseid'\n",
    "\n",
    "results=cur.execute(sql)\n",
    "results.fetchall()"
   ]
  },
  {
   "cell_type": "markdown",
   "id": "72dae6f6",
   "metadata": {},
   "source": [
    "# Left join"
   ]
  },
  {
   "cell_type": "code",
   "execution_count": 24,
   "id": "de756945",
   "metadata": {},
   "outputs": [
    {
     "data": {
      "text/plain": [
       "[(1, 'jack', 78, 'data science'),\n",
       " (2, 'john', 56, 'python course'),\n",
       " (3, 'rodoif', 78, 'data science'),\n",
       " (4, 'jim', 56, 'python course')]"
      ]
     },
     "execution_count": 24,
     "metadata": {},
     "output_type": "execute_result"
    }
   ],
   "source": [
    "sql=\"select student7.roll_no,student7.studentname, course2.courseid, course2.coursename from student7 left join course2 on student7.courseid=course2.courseid\"\n",
    "\n",
    "results=cur.execute(sql)\n",
    "\n",
    "results.fetchall()"
   ]
  },
  {
   "cell_type": "code",
   "execution_count": 25,
   "id": "97219c8c",
   "metadata": {},
   "outputs": [
    {
     "data": {
      "text/plain": [
       "[(1, 'jack', 78, 'data science'),\n",
       " (3, 'rodoif', 78, 'data science'),\n",
       " (2, 'john', 56, 'python course'),\n",
       " (4, 'jim', 56, 'python course'),\n",
       " (None, None, 101, 'database')]"
      ]
     },
     "execution_count": 25,
     "metadata": {},
     "output_type": "execute_result"
    }
   ],
   "source": [
    "sql=\"select student7.roll_no,student7.studentname, course2.courseid, course2.coursename from course2 left join student7 on course2.courseid=student7.courseid\"\n",
    "\n",
    "results=cur.execute(sql)\n",
    "\n",
    "results.fetchall()"
   ]
  },
  {
   "cell_type": "markdown",
   "id": "c5a86234",
   "metadata": {},
   "source": [
    "# Right join and full outer join is not supported in sqlite"
   ]
  },
  {
   "cell_type": "code",
   "execution_count": null,
   "id": "887a3ac2",
   "metadata": {},
   "outputs": [],
   "source": []
  }
 ],
 "metadata": {
  "kernelspec": {
   "display_name": "Python 3 (ipykernel)",
   "language": "python",
   "name": "python3"
  },
  "language_info": {
   "codemirror_mode": {
    "name": "ipython",
    "version": 3
   },
   "file_extension": ".py",
   "mimetype": "text/x-python",
   "name": "python",
   "nbconvert_exporter": "python",
   "pygments_lexer": "ipython3",
   "version": "3.9.7"
  }
 },
 "nbformat": 4,
 "nbformat_minor": 5
}
